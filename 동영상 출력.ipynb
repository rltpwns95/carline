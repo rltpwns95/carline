{
 "cells": [
  {
   "cell_type": "code",
   "execution_count": null,
   "id": "944e618e",
   "metadata": {},
   "outputs": [],
   "source": [
    "import cv2\n",
    "import numpy as np\n",
    "cap = cv2.VideoCapture('Drive.mp4') # videos 폴더의 04.mp4 파일\n",
    "\n",
    "while True:\n",
    "    ret, img = cap.read()\n",
    "\n",
    "    cv2.imshow('result', img)\n",
    "    if cv2.waitKey(1) == ord('q'):\n",
    "        break        \n",
    "cap.release() # 동영상 파일 닫고 메모리 해제"
   ]
  },
  {
   "cell_type": "markdown",
   "id": "bbea4bcf",
   "metadata": {},
   "source": [
    "#### 동영상 출력하기\n",
    "1. cv2.VideoCapture 함수를 이용하여 동영상 파일을 불러오고\n",
    "2. cap.read() 함수를 이용하여 한 프레임씩 읽어옵니다.\n",
    "3. cv2.imshow 함수를 이용하여 읽어온 프레임을 화면에 출력하고, cv2.waitKey 함수를 이용하여 사용자가 'q' 키를 누를 때까지 화면을 업데이트합니다.\n",
    "\n",
    " ord: 하나의 문자를 인자로 받고 해당 문자에 해당하는 유니코드 정수를 반환합니다. q를 누르면 실제로는 82값이다."
   ]
  },
  {
   "cell_type": "markdown",
   "id": "1e432928",
   "metadata": {},
   "source": [
    "내일은 이미지에서 차선인식할 수 있게 코드를 합칠 생각입니다.\n",
    "동영상을 인식하게 하려면 조금 어려워 보이네"
   ]
  }
 ],
 "metadata": {
  "kernelspec": {
   "display_name": "Python 3 (ipykernel)",
   "language": "python",
   "name": "python3"
  },
  "language_info": {
   "codemirror_mode": {
    "name": "ipython",
    "version": 3
   },
   "file_extension": ".py",
   "mimetype": "text/x-python",
   "name": "python",
   "nbconvert_exporter": "python",
   "pygments_lexer": "ipython3",
   "version": "3.9.13"
  }
 },
 "nbformat": 4,
 "nbformat_minor": 5
}
